{
 "cells": [
  {
   "cell_type": "markdown",
   "metadata": {},
   "source": [
    "See:\n",
    "* http://jonathansoma.com/lede/algorithms-2017/classes/fuzziness-matplotlib/fuzzing-matching-in-pandas-with-fuzzywuzzy/\n",
    "* https://medium.com/@rtjeannier/combining-data-sets-with-fuzzy-matching-17efcb510ab2"
   ]
  },
  {
   "cell_type": "code",
   "execution_count": 92,
   "metadata": {},
   "outputs": [],
   "source": [
    "df1=pd.DataFrame({'A':['asdfg','ghjkl','qwert','cvbnvvc'],\n",
    "                  'B':['AA','GGG','QQQQ','CC']})\n",
    "df2=pd.DataFrame({'A_new':['gdjkl', 'asdgg', 'cdbnvvt', 'qwert','jhekr'],\n",
    "                  'B_new':['GGG',   'AAA',   'CCC',     'QQQ',  'JJJ']})"
   ]
  },
  {
   "cell_type": "code",
   "execution_count": 93,
   "metadata": {},
   "outputs": [
    {
     "data": {
      "text/html": [
       "<div>\n",
       "<style scoped>\n",
       "    .dataframe tbody tr th:only-of-type {\n",
       "        vertical-align: middle;\n",
       "    }\n",
       "\n",
       "    .dataframe tbody tr th {\n",
       "        vertical-align: top;\n",
       "    }\n",
       "\n",
       "    .dataframe thead th {\n",
       "        text-align: right;\n",
       "    }\n",
       "</style>\n",
       "<table border=\"1\" class=\"dataframe\">\n",
       "  <thead>\n",
       "    <tr style=\"text-align: right;\">\n",
       "      <th></th>\n",
       "      <th>A</th>\n",
       "      <th>B</th>\n",
       "    </tr>\n",
       "  </thead>\n",
       "  <tbody>\n",
       "    <tr>\n",
       "      <th>0</th>\n",
       "      <td>asdfg</td>\n",
       "      <td>AA</td>\n",
       "    </tr>\n",
       "    <tr>\n",
       "      <th>1</th>\n",
       "      <td>ghjkl</td>\n",
       "      <td>GGG</td>\n",
       "    </tr>\n",
       "    <tr>\n",
       "      <th>2</th>\n",
       "      <td>qwert</td>\n",
       "      <td>QQQQ</td>\n",
       "    </tr>\n",
       "    <tr>\n",
       "      <th>3</th>\n",
       "      <td>cvbnvvc</td>\n",
       "      <td>CC</td>\n",
       "    </tr>\n",
       "  </tbody>\n",
       "</table>\n",
       "</div>"
      ],
      "text/plain": [
       "         A     B\n",
       "0    asdfg    AA\n",
       "1    ghjkl   GGG\n",
       "2    qwert  QQQQ\n",
       "3  cvbnvvc    CC"
      ]
     },
     "execution_count": 93,
     "metadata": {},
     "output_type": "execute_result"
    }
   ],
   "source": [
    "df1"
   ]
  },
  {
   "cell_type": "markdown",
   "metadata": {},
   "source": [
    "# Method 1:\n",
    "https://stackoverflow.com/a/35406648/2268280"
   ]
  },
  {
   "cell_type": "code",
   "execution_count": 94,
   "metadata": {},
   "outputs": [],
   "source": [
    "import pandas as pd\n",
    "import fuzzywuzzy.process as fwp"
   ]
  },
  {
   "cell_type": "code",
   "execution_count": 95,
   "metadata": {},
   "outputs": [
    {
     "data": {
      "text/plain": [
       "('asdgg', 80, 1)"
      ]
     },
     "execution_count": 95,
     "metadata": {},
     "output_type": "execute_result"
    }
   ],
   "source": [
    "fwp.extractOne(df1.loc[0,'A'],df2.A_new)"
   ]
  },
  {
   "cell_type": "code",
   "execution_count": 103,
   "metadata": {},
   "outputs": [],
   "source": [
    "df1['AA']=df1.A.apply(lambda s: list(fwp.extractOne(s,df2.A_new)))"
   ]
  },
  {
   "cell_type": "code",
   "execution_count": 104,
   "metadata": {},
   "outputs": [],
   "source": [
    "df1['AA_merge']=df1['AA'].str[0]"
   ]
  },
  {
   "cell_type": "code",
   "execution_count": 112,
   "metadata": {},
   "outputs": [],
   "source": [
    "df1=df1.merge(df2,left_on='AA_merge',right_on='A_new',how='left',suffixes=['','_df2'])#.drop('A_df2',axis='columns')"
   ]
  },
  {
   "cell_type": "code",
   "execution_count": 113,
   "metadata": {},
   "outputs": [
    {
     "data": {
      "text/plain": [
       "0    AAA\n",
       "1    GGG\n",
       "2    QQQ\n",
       "3    CCC\n",
       "Name: B_new, dtype: object"
      ]
     },
     "execution_count": 113,
     "metadata": {},
     "output_type": "execute_result"
    }
   ],
   "source": [
    "df1.B_new"
   ]
  },
  {
   "cell_type": "code",
   "execution_count": 118,
   "metadata": {},
   "outputs": [
    {
     "data": {
      "text/html": [
       "<div>\n",
       "<style scoped>\n",
       "    .dataframe tbody tr th:only-of-type {\n",
       "        vertical-align: middle;\n",
       "    }\n",
       "\n",
       "    .dataframe tbody tr th {\n",
       "        vertical-align: top;\n",
       "    }\n",
       "\n",
       "    .dataframe thead th {\n",
       "        text-align: right;\n",
       "    }\n",
       "</style>\n",
       "<table border=\"1\" class=\"dataframe\">\n",
       "  <thead>\n",
       "    <tr style=\"text-align: right;\">\n",
       "      <th></th>\n",
       "      <th>A</th>\n",
       "      <th>B</th>\n",
       "      <th>AA</th>\n",
       "      <th>AA_merge</th>\n",
       "      <th>A_new</th>\n",
       "      <th>B_new</th>\n",
       "    </tr>\n",
       "  </thead>\n",
       "  <tbody>\n",
       "    <tr>\n",
       "      <th>0</th>\n",
       "      <td>asdfg</td>\n",
       "      <td>AA</td>\n",
       "      <td>[asdgg, 80, 1]</td>\n",
       "      <td>asdgg</td>\n",
       "      <td>asdgg</td>\n",
       "      <td>AAA</td>\n",
       "    </tr>\n",
       "    <tr>\n",
       "      <th>1</th>\n",
       "      <td>ghjkl</td>\n",
       "      <td>GGG</td>\n",
       "      <td>[gdjkl, 80, 0]</td>\n",
       "      <td>gdjkl</td>\n",
       "      <td>gdjkl</td>\n",
       "      <td>GGG</td>\n",
       "    </tr>\n",
       "    <tr>\n",
       "      <th>2</th>\n",
       "      <td>qwert</td>\n",
       "      <td>QQQQ</td>\n",
       "      <td>[qwert, 100, 3]</td>\n",
       "      <td>qwert</td>\n",
       "      <td>qwert</td>\n",
       "      <td>QQQ</td>\n",
       "    </tr>\n",
       "    <tr>\n",
       "      <th>3</th>\n",
       "      <td>cvbnvvc</td>\n",
       "      <td>CC</td>\n",
       "      <td>[cdbnvvt, 71, 2]</td>\n",
       "      <td>cdbnvvt</td>\n",
       "      <td>cdbnvvt</td>\n",
       "      <td>CCC</td>\n",
       "    </tr>\n",
       "  </tbody>\n",
       "</table>\n",
       "</div>"
      ],
      "text/plain": [
       "         A     B                AA AA_merge    A_new B_new\n",
       "0    asdfg    AA    [asdgg, 80, 1]    asdgg    asdgg   AAA\n",
       "1    ghjkl   GGG    [gdjkl, 80, 0]    gdjkl    gdjkl   GGG\n",
       "2    qwert  QQQQ   [qwert, 100, 3]    qwert    qwert   QQQ\n",
       "3  cvbnvvc    CC  [cdbnvvt, 71, 2]  cdbnvvt  cdbnvvt   CCC"
      ]
     },
     "execution_count": 118,
     "metadata": {},
     "output_type": "execute_result"
    }
   ],
   "source": [
    "df1"
   ]
  },
  {
   "cell_type": "code",
   "execution_count": 116,
   "metadata": {},
   "outputs": [],
   "source": [
    "import Levenshtein as lv"
   ]
  },
  {
   "cell_type": "code",
   "execution_count": 133,
   "metadata": {},
   "outputs": [
    {
     "data": {
      "text/plain": [
       "0     None\n",
       "1    gdjkl\n",
       "2    qwert\n",
       "3     None\n",
       "dtype: object"
      ]
     },
     "execution_count": 133,
     "metadata": {},
     "output_type": "execute_result"
    }
   ],
   "source": [
    "df1['lv']=df1.B.combine(df1.B_new,func=lambda x,y:int(lv.ratio(x,y)*100) )\n",
    "df1.lv.combine(  \n",
    "       df1.AA,lambda x,y: y[0] if y[1]>80 or (y[1]>70 and x>80) else None )"
   ]
  },
  {
   "cell_type": "code",
   "execution_count": 134,
   "metadata": {},
   "outputs": [
    {
     "data": {
      "text/html": [
       "<div>\n",
       "<style scoped>\n",
       "    .dataframe tbody tr th:only-of-type {\n",
       "        vertical-align: middle;\n",
       "    }\n",
       "\n",
       "    .dataframe tbody tr th {\n",
       "        vertical-align: top;\n",
       "    }\n",
       "\n",
       "    .dataframe thead th {\n",
       "        text-align: right;\n",
       "    }\n",
       "</style>\n",
       "<table border=\"1\" class=\"dataframe\">\n",
       "  <thead>\n",
       "    <tr style=\"text-align: right;\">\n",
       "      <th></th>\n",
       "      <th>A</th>\n",
       "      <th>B</th>\n",
       "      <th>AA</th>\n",
       "      <th>AA_merge</th>\n",
       "      <th>A_new</th>\n",
       "      <th>B_new</th>\n",
       "      <th>lv</th>\n",
       "    </tr>\n",
       "  </thead>\n",
       "  <tbody>\n",
       "    <tr>\n",
       "      <th>0</th>\n",
       "      <td>asdfg</td>\n",
       "      <td>AA</td>\n",
       "      <td>[asdgg, 80, 1]</td>\n",
       "      <td>None</td>\n",
       "      <td>asdgg</td>\n",
       "      <td>AAA</td>\n",
       "      <td>80</td>\n",
       "    </tr>\n",
       "    <tr>\n",
       "      <th>1</th>\n",
       "      <td>ghjkl</td>\n",
       "      <td>GGG</td>\n",
       "      <td>[gdjkl, 80, 0]</td>\n",
       "      <td>gdjkl</td>\n",
       "      <td>gdjkl</td>\n",
       "      <td>GGG</td>\n",
       "      <td>100</td>\n",
       "    </tr>\n",
       "    <tr>\n",
       "      <th>2</th>\n",
       "      <td>qwert</td>\n",
       "      <td>QQQQ</td>\n",
       "      <td>[qwert, 100, 3]</td>\n",
       "      <td>qwert</td>\n",
       "      <td>qwert</td>\n",
       "      <td>QQQ</td>\n",
       "      <td>85</td>\n",
       "    </tr>\n",
       "    <tr>\n",
       "      <th>3</th>\n",
       "      <td>cvbnvvc</td>\n",
       "      <td>CC</td>\n",
       "      <td>[cdbnvvt, 71, 2]</td>\n",
       "      <td>None</td>\n",
       "      <td>cdbnvvt</td>\n",
       "      <td>CCC</td>\n",
       "      <td>80</td>\n",
       "    </tr>\n",
       "  </tbody>\n",
       "</table>\n",
       "</div>"
      ],
      "text/plain": [
       "         A     B                AA AA_merge    A_new B_new   lv\n",
       "0    asdfg    AA    [asdgg, 80, 1]     None    asdgg   AAA   80\n",
       "1    ghjkl   GGG    [gdjkl, 80, 0]    gdjkl    gdjkl   GGG  100\n",
       "2    qwert  QQQQ   [qwert, 100, 3]    qwert    qwert   QQQ   85\n",
       "3  cvbnvvc    CC  [cdbnvvt, 71, 2]     None  cdbnvvt   CCC   80"
      ]
     },
     "execution_count": 134,
     "metadata": {},
     "output_type": "execute_result"
    }
   ],
   "source": [
    "df1"
   ]
  },
  {
   "cell_type": "code",
   "execution_count": null,
   "metadata": {},
   "outputs": [],
   "source": []
  }
 ],
 "metadata": {
  "kernelspec": {
   "display_name": "Python 3",
   "language": "python",
   "name": "python3"
  },
  "language_info": {
   "codemirror_mode": {
    "name": "ipython",
    "version": 3
   },
   "file_extension": ".py",
   "mimetype": "text/x-python",
   "name": "python",
   "nbconvert_exporter": "python",
   "pygments_lexer": "ipython3",
   "version": "3.5.3"
  }
 },
 "nbformat": 4,
 "nbformat_minor": 2
}
